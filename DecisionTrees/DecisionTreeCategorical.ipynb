{
 "cells": [
  {
   "cell_type": "code",
   "execution_count": 48,
   "id": "578e6e6d-414a-4c36-95a2-e8c92cf1d440",
   "metadata": {},
   "outputs": [],
   "source": [
    "import pandas as pd\n",
    "import numpy as np"
   ]
  },
  {
   "cell_type": "code",
   "execution_count": 49,
   "id": "78353c5e-9352-44b4-8c4e-9a76ac55f7f2",
   "metadata": {},
   "outputs": [],
   "source": [
    "data = pd.read_csv(\"./mushrooms.csv\")"
   ]
  },
  {
   "cell_type": "code",
   "execution_count": 50,
   "id": "5ce49885-8e93-4e8f-a68e-05f488ea335f",
   "metadata": {},
   "outputs": [
    {
     "data": {
      "text/html": [
       "<div>\n",
       "<style scoped>\n",
       "    .dataframe tbody tr th:only-of-type {\n",
       "        vertical-align: middle;\n",
       "    }\n",
       "\n",
       "    .dataframe tbody tr th {\n",
       "        vertical-align: top;\n",
       "    }\n",
       "\n",
       "    .dataframe thead th {\n",
       "        text-align: right;\n",
       "    }\n",
       "</style>\n",
       "<table border=\"1\" class=\"dataframe\">\n",
       "  <thead>\n",
       "    <tr style=\"text-align: right;\">\n",
       "      <th></th>\n",
       "      <th>type</th>\n",
       "      <th>cap_shape</th>\n",
       "      <th>cap_surface</th>\n",
       "      <th>cap_color</th>\n",
       "      <th>bruises</th>\n",
       "      <th>odor</th>\n",
       "      <th>gill_attachment</th>\n",
       "      <th>gill_spacing</th>\n",
       "      <th>gill_size</th>\n",
       "      <th>gill_color</th>\n",
       "      <th>...</th>\n",
       "      <th>stalk_surface_below_ring</th>\n",
       "      <th>stalk_color_above_ring</th>\n",
       "      <th>stalk_color_below_ring</th>\n",
       "      <th>veil_type</th>\n",
       "      <th>veil_color</th>\n",
       "      <th>ring_number</th>\n",
       "      <th>ring_type</th>\n",
       "      <th>spore_print_color</th>\n",
       "      <th>population</th>\n",
       "      <th>habitat</th>\n",
       "    </tr>\n",
       "  </thead>\n",
       "  <tbody>\n",
       "    <tr>\n",
       "      <th>0</th>\n",
       "      <td>p</td>\n",
       "      <td>x</td>\n",
       "      <td>s</td>\n",
       "      <td>n</td>\n",
       "      <td>t</td>\n",
       "      <td>p</td>\n",
       "      <td>f</td>\n",
       "      <td>c</td>\n",
       "      <td>n</td>\n",
       "      <td>k</td>\n",
       "      <td>...</td>\n",
       "      <td>s</td>\n",
       "      <td>w</td>\n",
       "      <td>w</td>\n",
       "      <td>p</td>\n",
       "      <td>w</td>\n",
       "      <td>o</td>\n",
       "      <td>p</td>\n",
       "      <td>k</td>\n",
       "      <td>s</td>\n",
       "      <td>u</td>\n",
       "    </tr>\n",
       "    <tr>\n",
       "      <th>1</th>\n",
       "      <td>e</td>\n",
       "      <td>x</td>\n",
       "      <td>s</td>\n",
       "      <td>y</td>\n",
       "      <td>t</td>\n",
       "      <td>a</td>\n",
       "      <td>f</td>\n",
       "      <td>c</td>\n",
       "      <td>b</td>\n",
       "      <td>k</td>\n",
       "      <td>...</td>\n",
       "      <td>s</td>\n",
       "      <td>w</td>\n",
       "      <td>w</td>\n",
       "      <td>p</td>\n",
       "      <td>w</td>\n",
       "      <td>o</td>\n",
       "      <td>p</td>\n",
       "      <td>n</td>\n",
       "      <td>n</td>\n",
       "      <td>g</td>\n",
       "    </tr>\n",
       "    <tr>\n",
       "      <th>2</th>\n",
       "      <td>e</td>\n",
       "      <td>b</td>\n",
       "      <td>s</td>\n",
       "      <td>w</td>\n",
       "      <td>t</td>\n",
       "      <td>l</td>\n",
       "      <td>f</td>\n",
       "      <td>c</td>\n",
       "      <td>b</td>\n",
       "      <td>n</td>\n",
       "      <td>...</td>\n",
       "      <td>s</td>\n",
       "      <td>w</td>\n",
       "      <td>w</td>\n",
       "      <td>p</td>\n",
       "      <td>w</td>\n",
       "      <td>o</td>\n",
       "      <td>p</td>\n",
       "      <td>n</td>\n",
       "      <td>n</td>\n",
       "      <td>m</td>\n",
       "    </tr>\n",
       "    <tr>\n",
       "      <th>3</th>\n",
       "      <td>p</td>\n",
       "      <td>x</td>\n",
       "      <td>y</td>\n",
       "      <td>w</td>\n",
       "      <td>t</td>\n",
       "      <td>p</td>\n",
       "      <td>f</td>\n",
       "      <td>c</td>\n",
       "      <td>n</td>\n",
       "      <td>n</td>\n",
       "      <td>...</td>\n",
       "      <td>s</td>\n",
       "      <td>w</td>\n",
       "      <td>w</td>\n",
       "      <td>p</td>\n",
       "      <td>w</td>\n",
       "      <td>o</td>\n",
       "      <td>p</td>\n",
       "      <td>k</td>\n",
       "      <td>s</td>\n",
       "      <td>u</td>\n",
       "    </tr>\n",
       "    <tr>\n",
       "      <th>4</th>\n",
       "      <td>e</td>\n",
       "      <td>x</td>\n",
       "      <td>s</td>\n",
       "      <td>g</td>\n",
       "      <td>f</td>\n",
       "      <td>n</td>\n",
       "      <td>f</td>\n",
       "      <td>w</td>\n",
       "      <td>b</td>\n",
       "      <td>k</td>\n",
       "      <td>...</td>\n",
       "      <td>s</td>\n",
       "      <td>w</td>\n",
       "      <td>w</td>\n",
       "      <td>p</td>\n",
       "      <td>w</td>\n",
       "      <td>o</td>\n",
       "      <td>e</td>\n",
       "      <td>n</td>\n",
       "      <td>a</td>\n",
       "      <td>g</td>\n",
       "    </tr>\n",
       "  </tbody>\n",
       "</table>\n",
       "<p>5 rows × 23 columns</p>\n",
       "</div>"
      ],
      "text/plain": [
       "  type cap_shape cap_surface cap_color bruises odor gill_attachment  \\\n",
       "0    p         x           s         n       t    p               f   \n",
       "1    e         x           s         y       t    a               f   \n",
       "2    e         b           s         w       t    l               f   \n",
       "3    p         x           y         w       t    p               f   \n",
       "4    e         x           s         g       f    n               f   \n",
       "\n",
       "  gill_spacing gill_size gill_color  ... stalk_surface_below_ring  \\\n",
       "0            c         n          k  ...                        s   \n",
       "1            c         b          k  ...                        s   \n",
       "2            c         b          n  ...                        s   \n",
       "3            c         n          n  ...                        s   \n",
       "4            w         b          k  ...                        s   \n",
       "\n",
       "  stalk_color_above_ring stalk_color_below_ring veil_type veil_color  \\\n",
       "0                      w                      w         p          w   \n",
       "1                      w                      w         p          w   \n",
       "2                      w                      w         p          w   \n",
       "3                      w                      w         p          w   \n",
       "4                      w                      w         p          w   \n",
       "\n",
       "  ring_number ring_type spore_print_color population habitat  \n",
       "0           o         p                 k          s       u  \n",
       "1           o         p                 n          n       g  \n",
       "2           o         p                 n          n       m  \n",
       "3           o         p                 k          s       u  \n",
       "4           o         e                 n          a       g  \n",
       "\n",
       "[5 rows x 23 columns]"
      ]
     },
     "execution_count": 50,
     "metadata": {},
     "output_type": "execute_result"
    }
   ],
   "source": [
    "data.head()"
   ]
  },
  {
   "cell_type": "code",
   "execution_count": 51,
   "id": "acbb4a68-b644-4be5-af31-f4bfddcd1b27",
   "metadata": {},
   "outputs": [
    {
     "data": {
      "text/plain": [
       "(8124, 23)"
      ]
     },
     "execution_count": 51,
     "metadata": {},
     "output_type": "execute_result"
    }
   ],
   "source": [
    "data.shape"
   ]
  },
  {
   "cell_type": "code",
   "execution_count": 52,
   "id": "7df6821d-bcc2-4435-a49c-4225373b9fa6",
   "metadata": {},
   "outputs": [],
   "source": [
    "X,y = data.drop(['type'],axis = 1),data['type'].values\n",
    "feature_names = data.columns[1:]"
   ]
  },
  {
   "cell_type": "code",
   "execution_count": 53,
   "id": "c6238bb0-7d63-44b3-a44e-8d2138608779",
   "metadata": {},
   "outputs": [
    {
     "data": {
      "text/plain": [
       "Index(['cap_shape', 'cap_surface', 'cap_color', 'bruises', 'odor',\n",
       "       'gill_attachment', 'gill_spacing', 'gill_size', 'gill_color',\n",
       "       'stalk_shape', 'stalk_root', 'stalk_surface_above_ring',\n",
       "       'stalk_surface_below_ring', 'stalk_color_above_ring',\n",
       "       'stalk_color_below_ring', 'veil_type', 'veil_color', 'ring_number',\n",
       "       'ring_type', 'spore_print_color', 'population', 'habitat'],\n",
       "      dtype='object')"
      ]
     },
     "execution_count": 53,
     "metadata": {},
     "output_type": "execute_result"
    }
   ],
   "source": [
    "feature_names"
   ]
  },
  {
   "cell_type": "code",
   "execution_count": 54,
   "id": "50b311ae-2ec2-48ab-8322-b36df11eb946",
   "metadata": {},
   "outputs": [],
   "source": [
    "def entropy(y):\n",
    "    classes,counts = np.unique(y,return_counts=True)\n",
    "    prob = counts/len(y)\n",
    "\n",
    "    return -1*np.sum(prob*np.log2(prob))"
   ]
  },
  {
   "cell_type": "code",
   "execution_count": 55,
   "id": "762a9a1e-be36-44ab-964d-e7978ed0b24a",
   "metadata": {},
   "outputs": [
    {
     "data": {
      "text/plain": [
       "1.0"
      ]
     },
     "execution_count": 55,
     "metadata": {},
     "output_type": "execute_result"
    }
   ],
   "source": [
    "entropy([1,0,1,0])"
   ]
  },
  {
   "cell_type": "code",
   "execution_count": 56,
   "id": "5fca48c6-fef8-4b9b-8011-dd31108636a3",
   "metadata": {},
   "outputs": [
    {
     "data": {
      "text/plain": [
       "array([ True, False,  True, False,  True,  True,  True, False, False,\n",
       "       False, False])"
      ]
     },
     "execution_count": 56,
     "metadata": {},
     "output_type": "execute_result"
    }
   ],
   "source": [
    "l = np.array([1,0,1,0,1,1,1,2,2,2,0])\n",
    "l == 1"
   ]
  },
  {
   "cell_type": "code",
   "execution_count": 91,
   "id": "57d9030b-0dc1-4533-b9b9-289a41dcea4f",
   "metadata": {},
   "outputs": [],
   "source": [
    "class DecisionTree:\n",
    "    def __init__(self,max_depth = 10,min_split = 2):\n",
    "        self.max_depth = max_depth\n",
    "        self.min_split = min_split\n",
    "        \n",
    "    def fit(self,X,y):\n",
    "        self.labels = np.unique(y)\n",
    "        self.root = self.constructNode(X,y,0)\n",
    "        # return self.root\n",
    "\n",
    "    def traverse_predict(self,t,node):\n",
    "        if node['isLeaf'] == True:\n",
    "            return node['Predictions']\n",
    "        else:\n",
    "            return self.traverse_predict(t,node['children'][t[node['column']]])\n",
    "\n",
    "    def predict(self,t):\n",
    "        predictions = []\n",
    "        for i in range(len(t)):\n",
    "            pred = self.traverse_predict(t.iloc[i],self.root)\n",
    "            predictions.append(self.labels[np.argmax(pred)])\n",
    "            \n",
    "        return np.array(predictions)\n",
    "    \n",
    "    def constructNode(self,X,y,cur_depth):\n",
    "        if len(X) == 0 or cur_depth > self.max_depth:\n",
    "            return None\n",
    "\n",
    "        if len(X) >= self.min_split:\n",
    "            parentEntropy = self.entropy(y)\n",
    "            weightedChildrenEntropy = np.zeros((X.shape[1],))\n",
    "    \n",
    "            for feat in range(X.shape[1]):\n",
    "                feat_values = X.iloc[:,feat].unique()\n",
    "                for feat_value in feat_values:\n",
    "                    weightedChildrenEntropy[feat] += (X.iloc[:,feat] == feat_value).mean()*self.entropy(y[X.iloc[:,feat] == feat_value])\n",
    "    \n",
    "            feat = np.argmax(parentEntropy - weightedChildrenEntropy)\n",
    "            \n",
    "            node = {'column':X.columns[feat], \n",
    "                    'children':{},\n",
    "                    'isLeaf':False\n",
    "                   }\n",
    "                    \n",
    "            feat_values = X.iloc[:,feat].unique()\n",
    "            for feat_value in feat_values:\n",
    "                X_split = X.drop([X.columns[feat]],axis=1)[X.iloc[:,feat] == feat_value]\n",
    "                y_split = y[X.iloc[:,feat] == feat_value]\n",
    "                child_node = self.constructNode(X_split,y_split,cur_depth+1)\n",
    "                if child_node == None:\n",
    "                    node['isLeaf'] = True\n",
    "                    break\n",
    "                node['children'][feat_value] = child_node\n",
    "\n",
    "        else:\n",
    "            node = {'column':None, \n",
    "                    'children':{},\n",
    "                    'isLeaf':True\n",
    "                   }\n",
    "\n",
    "        if node['isLeaf']:\n",
    "            node['Predictions'] = self.predictions(y)\n",
    "\n",
    "        return node\n",
    "\n",
    "    def predictions(self,y):\n",
    "        prob = np.zeros(self.labels.shape,dtype=np.float32)\n",
    "        for i,cls in enumerate(self.labels):\n",
    "            prob[i] = (y==cls).mean()\n",
    "\n",
    "        return prob\n",
    "            \n",
    "\n",
    "    def entropy(self,y):\n",
    "        classes,counts = np.unique(y,return_counts=True)\n",
    "        prob = counts/len(y)\n",
    "    \n",
    "        return -1*np.sum(prob*np.log2(prob))"
   ]
  },
  {
   "cell_type": "code",
   "execution_count": 92,
   "id": "65af704a-6551-4bcc-b839-50bcc4a5e7da",
   "metadata": {
    "scrolled": true
   },
   "outputs": [],
   "source": [
    "dt = DecisionTree(min_split=100)\n",
    "dt.fit(X,y)\n",
    "# dt.root"
   ]
  },
  {
   "cell_type": "code",
   "execution_count": 93,
   "id": "051d4cd8-6f33-40f0-a3ea-ac1557dd75b2",
   "metadata": {},
   "outputs": [],
   "source": [
    "ypred = dt.predict(X)"
   ]
  },
  {
   "cell_type": "code",
   "execution_count": 94,
   "id": "b6dbba5a-ecd2-4bae-8acf-9475192ddbff",
   "metadata": {},
   "outputs": [
    {
     "data": {
      "text/plain": [
       "0.9970457902511078"
      ]
     },
     "execution_count": 94,
     "metadata": {},
     "output_type": "execute_result"
    }
   ],
   "source": [
    "(y==ypred).mean()"
   ]
  },
  {
   "cell_type": "code",
   "execution_count": null,
   "id": "5eec4484-f4d3-4c88-8b8a-20d7a11e7e9f",
   "metadata": {},
   "outputs": [],
   "source": []
  },
  {
   "cell_type": "code",
   "execution_count": null,
   "id": "a2ac1ada-0279-4651-a630-694db94e547f",
   "metadata": {},
   "outputs": [],
   "source": []
  },
  {
   "cell_type": "code",
   "execution_count": 96,
   "id": "0a7de810-b99c-4d11-96ff-4bd10ed41c71",
   "metadata": {},
   "outputs": [],
   "source": [
    "from sklearn.model_selection import train_test_split\n",
    "from sklearn.tree import DecisionTreeClassifier\n",
    "from sklearn.metrics import accuracy_score"
   ]
  },
  {
   "cell_type": "code",
   "execution_count": 97,
   "id": "b3667af1-1f68-498e-9914-c9b02d079940",
   "metadata": {},
   "outputs": [],
   "source": [
    "x_train,x_test,y_train,y_test = train_test_split(X,y,train_size = 0.8)"
   ]
  },
  {
   "cell_type": "code",
   "execution_count": 103,
   "id": "6d64f855-5a2a-47e7-aa41-17f8146cd75c",
   "metadata": {},
   "outputs": [],
   "source": [
    "dt = DecisionTree(max_depth=5,min_split=200)\n",
    "# dt = DecisionTreeClassifier(max_depth=5,min_samples_split=200)\n",
    "dt.fit(x_train,y_train)"
   ]
  },
  {
   "cell_type": "code",
   "execution_count": 104,
   "id": "aa54a8ef-3e5a-4bbc-bd37-298d228537e4",
   "metadata": {},
   "outputs": [
    {
     "data": {
      "text/plain": [
       "0.9972303431297123"
      ]
     },
     "execution_count": 104,
     "metadata": {},
     "output_type": "execute_result"
    }
   ],
   "source": [
    "accuracy_score(y_train,dt.predict(x_train))"
   ]
  },
  {
   "cell_type": "code",
   "execution_count": 105,
   "id": "4403c07b-efa8-48d6-a4f9-0e91cd2d55c2",
   "metadata": {},
   "outputs": [
    {
     "data": {
      "text/plain": [
       "0.9963076923076923"
      ]
     },
     "execution_count": 105,
     "metadata": {},
     "output_type": "execute_result"
    }
   ],
   "source": [
    "accuracy_score(y_test,dt.predict(x_test))"
   ]
  },
  {
   "cell_type": "code",
   "execution_count": null,
   "id": "646c8fc3-3411-4df8-905c-a5af6c8e2a72",
   "metadata": {},
   "outputs": [],
   "source": []
  }
 ],
 "metadata": {
  "kernelspec": {
   "display_name": "Python 3 (ipykernel)",
   "language": "python",
   "name": "python3"
  },
  "language_info": {
   "codemirror_mode": {
    "name": "ipython",
    "version": 3
   },
   "file_extension": ".py",
   "mimetype": "text/x-python",
   "name": "python",
   "nbconvert_exporter": "python",
   "pygments_lexer": "ipython3",
   "version": "3.13.0"
  }
 },
 "nbformat": 4,
 "nbformat_minor": 5
}
