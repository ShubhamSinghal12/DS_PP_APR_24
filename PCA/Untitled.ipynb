{
 "cells": [
  {
   "cell_type": "code",
   "execution_count": 11,
   "id": "383509b7-964d-440f-a535-cc737cb4f7b4",
   "metadata": {},
   "outputs": [],
   "source": [
    "import numpy as np\n",
    "from sklearn.datasets import load_breast_cancer\n",
    "from sklearn.preprocessing import StandardScaler\n",
    "import matplotlib.pyplot as plt"
   ]
  },
  {
   "cell_type": "code",
   "execution_count": 12,
   "id": "888f4017-f644-4955-a211-fe154ab79bc1",
   "metadata": {},
   "outputs": [],
   "source": [
    "X,y = load_breast_cancer(return_X_y=True)"
   ]
  },
  {
   "cell_type": "code",
   "execution_count": 13,
   "id": "9cd197dc-144a-47be-819f-104c3eb5c9fa",
   "metadata": {},
   "outputs": [
    {
     "data": {
      "text/plain": [
       "(569, 30)"
      ]
     },
     "execution_count": 13,
     "metadata": {},
     "output_type": "execute_result"
    }
   ],
   "source": [
    "X.shape"
   ]
  },
  {
   "cell_type": "code",
   "execution_count": 14,
   "id": "9f0de7f6-e0a4-47f0-aea2-66fc5a1fb5ef",
   "metadata": {},
   "outputs": [],
   "source": [
    "std = StandardScaler()\n",
    "X = std.fit_transform(X)"
   ]
  },
  {
   "cell_type": "code",
   "execution_count": 20,
   "id": "bce3c42e-9d7b-4027-9ed5-37ed4d9be428",
   "metadata": {},
   "outputs": [
    {
     "data": {
      "text/plain": [
       "(569, 30)"
      ]
     },
     "execution_count": 20,
     "metadata": {},
     "output_type": "execute_result"
    }
   ],
   "source": [
    "X.shape"
   ]
  },
  {
   "cell_type": "code",
   "execution_count": 21,
   "id": "e3cda76c-a64f-436e-bbd8-af127b76a7eb",
   "metadata": {},
   "outputs": [],
   "source": [
    "covd = np.cov(X,rowvar=False)"
   ]
  },
  {
   "cell_type": "code",
   "execution_count": 22,
   "id": "592f008b-2473-40ff-aba3-b97c4bb817c7",
   "metadata": {},
   "outputs": [
    {
     "data": {
      "text/plain": [
       "(30, 30)"
      ]
     },
     "execution_count": 22,
     "metadata": {},
     "output_type": "execute_result"
    }
   ],
   "source": [
    "covd.shape"
   ]
  },
  {
   "cell_type": "code",
   "execution_count": 24,
   "id": "534e9640-b2ea-4e73-9b67-0307f021d2ab",
   "metadata": {},
   "outputs": [],
   "source": [
    "eigenVal, eigenVec = np.linalg.eig(covd)"
   ]
  },
  {
   "cell_type": "code",
   "execution_count": 27,
   "id": "331c5c77-e04a-4971-9c05-e5f882cc6052",
   "metadata": {},
   "outputs": [],
   "source": [
    "k = 5"
   ]
  },
  {
   "cell_type": "code",
   "execution_count": 29,
   "id": "d31ee26c-7fd4-466f-95a1-de21a0b4b703",
   "metadata": {},
   "outputs": [],
   "source": [
    "sortedIdx = np.argsort(eigenVal)[::-1]"
   ]
  },
  {
   "cell_type": "code",
   "execution_count": 31,
   "id": "ba9ece3f-8729-4f47-a124-05b5aa113425",
   "metadata": {},
   "outputs": [],
   "source": [
    "mat = eigenVec[sortedIdx][:,:k]"
   ]
  },
  {
   "cell_type": "code",
   "execution_count": 32,
   "id": "909050c1-fa7a-4fbb-8c9c-027297150d03",
   "metadata": {},
   "outputs": [
    {
     "data": {
      "text/plain": [
       "(30, 5)"
      ]
     },
     "execution_count": 32,
     "metadata": {},
     "output_type": "execute_result"
    }
   ],
   "source": [
    "mat.shape"
   ]
  },
  {
   "cell_type": "code",
   "execution_count": 33,
   "id": "792f1499-e6c0-401a-92f5-7d1b6e472f82",
   "metadata": {},
   "outputs": [
    {
     "data": {
      "text/plain": [
       "(569, 5)"
      ]
     },
     "execution_count": 33,
     "metadata": {},
     "output_type": "execute_result"
    }
   ],
   "source": [
    "newData = X@mat\n",
    "newData.shape"
   ]
  },
  {
   "cell_type": "code",
   "execution_count": 38,
   "id": "e707c49c-e3c1-4dfa-a471-ac8775a76f24",
   "metadata": {},
   "outputs": [
    {
     "data": {
      "text/plain": [
       "array([0.44272026, 0.63243208, 0.72636371, 0.79238506, 0.84734274,\n",
       "       0.88758796, 0.9100953 , 0.92598254, 0.93987903, 0.95156881,\n",
       "       0.961366  , 0.97007138, 0.97811663, 0.98335029, 0.98648812,\n",
       "       0.98915022, 0.99113018, 0.99288414, 0.9945334 , 0.99453783,\n",
       "       0.99456279, 0.99461577, 0.99484578, 0.99511837, 0.99563442,\n",
       "       0.99623625, 0.99704761, 0.99796226, 0.9990009 , 1.        ])"
      ]
     },
     "execution_count": 38,
     "metadata": {},
     "output_type": "execute_result"
    }
   ],
   "source": [
    "np.cumsum(eigenVal)/np.sum(eigenVal)"
   ]
  },
  {
   "cell_type": "code",
   "execution_count": 39,
   "id": "57c6b110-a6b6-4ae2-8ae0-3bf14c9bdbde",
   "metadata": {},
   "outputs": [],
   "source": [
    "from sklearn.decomposition import PCA"
   ]
  },
  {
   "cell_type": "code",
   "execution_count": 40,
   "id": "25d22095-260b-4274-8fde-70183a84b8df",
   "metadata": {},
   "outputs": [],
   "source": [
    "pca = PCA(n_components=5)\n",
    "newData = pca.fit_transform(X)"
   ]
  },
  {
   "cell_type": "code",
   "execution_count": 42,
   "id": "3181d8fc-bae1-449d-b4a7-459e51dc471c",
   "metadata": {},
   "outputs": [
    {
     "data": {
      "text/plain": [
       "(569, 5)"
      ]
     },
     "execution_count": 42,
     "metadata": {},
     "output_type": "execute_result"
    }
   ],
   "source": [
    "newData.shape"
   ]
  },
  {
   "cell_type": "code",
   "execution_count": null,
   "id": "01a60112-e6d6-4aae-84a5-76faf3ef411a",
   "metadata": {},
   "outputs": [],
   "source": []
  }
 ],
 "metadata": {
  "kernelspec": {
   "display_name": "Python 3 (ipykernel)",
   "language": "python",
   "name": "python3"
  },
  "language_info": {
   "codemirror_mode": {
    "name": "ipython",
    "version": 3
   },
   "file_extension": ".py",
   "mimetype": "text/x-python",
   "name": "python",
   "nbconvert_exporter": "python",
   "pygments_lexer": "ipython3",
   "version": "3.13.0"
  }
 },
 "nbformat": 4,
 "nbformat_minor": 5
}
