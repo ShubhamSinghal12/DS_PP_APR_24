{
 "cells": [
  {
   "cell_type": "code",
   "execution_count": 1,
   "id": "b1e67ffd-c3c7-487d-bedb-b32042027e66",
   "metadata": {},
   "outputs": [],
   "source": [
    "import pandas as pd\n",
    "import numpy as np\n",
    "import matplotlib.pyplot as plt"
   ]
  },
  {
   "cell_type": "code",
   "execution_count": null,
   "id": "098be893-1e14-4535-879a-21a92dae6fd9",
   "metadata": {},
   "outputs": [],
   "source": []
  },
  {
   "cell_type": "code",
   "execution_count": null,
   "id": "89f66c76-381e-42c6-8fc8-fa43fb9add47",
   "metadata": {},
   "outputs": [],
   "source": []
  },
  {
   "cell_type": "code",
   "execution_count": null,
   "id": "44be32be-c498-4095-9219-f4b1982d349c",
   "metadata": {},
   "outputs": [],
   "source": [
    "class KNNClassifier:\n",
    "    def __init__(self,k = 5):\n",
    "        self.k = k\n",
    "    \n",
    "    def fit(self,x,y):\n",
    "        self.X = x\n",
    "        self.y = y\n",
    "        \n",
    "    def distance_formula(self,p1,p2):\n",
    "        return np.sqrt(np.sum((p1-p2)**2))\n",
    "    \n",
    "    def predict_1(self,t):\n",
    "        distances = [] #Tuple 0-> dist, 1->Label\n",
    "        \n",
    "        for i in range(len(self.X)):\n",
    "            distances.append((self.distance_formula(self.X[i],t),self.y[i]))\n",
    "\n",
    "        distances = sorted(distances,key = lambda x:x[0])[:self.k]\n",
    "        \n",
    "        Klabels = []\n",
    "        for dist,label in distances:\n",
    "            Klabels.append(label)\n",
    "\n",
    "        labels = np.unique(Klabels,return_counts=True)\n",
    "        n\n",
    "        \n",
    "    \n",
    "\n",
    "    def predict(self,t):\n",
    "        "
   ]
  },
  {
   "cell_type": "code",
   "execution_count": null,
   "id": "da4efc83-24b3-463e-ab5e-871c18e58ca7",
   "metadata": {},
   "outputs": [],
   "source": []
  },
  {
   "cell_type": "code",
   "execution_count": 10,
   "id": "b90d4772-b947-446b-a8f8-d8cbf0be44e0",
   "metadata": {},
   "outputs": [
    {
     "data": {
      "text/plain": [
       "((array([0, 1]), array([8, 5], dtype=int64)), 0)"
      ]
     },
     "execution_count": 10,
     "metadata": {},
     "output_type": "execute_result"
    }
   ],
   "source": [
    "l = [1,0,1,0,1,1,0,1,0,0,0,0,0]\n",
    "np.unique(l,return_counts=True),np.argmax(np.unique(l,return_counts=True)[1])"
   ]
  },
  {
   "cell_type": "code",
   "execution_count": null,
   "id": "9e2fa1b2-69a7-4cba-a7b6-4ca3ef6dd2f6",
   "metadata": {},
   "outputs": [],
   "source": []
  },
  {
   "cell_type": "code",
   "execution_count": null,
   "id": "20b7eb59-4170-4a20-9b08-c6e717df80c7",
   "metadata": {},
   "outputs": [],
   "source": []
  },
  {
   "cell_type": "code",
   "execution_count": null,
   "id": "c74745e9-1819-4fd3-ba76-79686ca6691f",
   "metadata": {},
   "outputs": [],
   "source": []
  }
 ],
 "metadata": {
  "kernelspec": {
   "display_name": "Python 3 (ipykernel)",
   "language": "python",
   "name": "python3"
  },
  "language_info": {
   "codemirror_mode": {
    "name": "ipython",
    "version": 3
   },
   "file_extension": ".py",
   "mimetype": "text/x-python",
   "name": "python",
   "nbconvert_exporter": "python",
   "pygments_lexer": "ipython3",
   "version": "3.12.1"
  }
 },
 "nbformat": 4,
 "nbformat_minor": 5
}
