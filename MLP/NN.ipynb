{
 "cells": [
  {
   "cell_type": "code",
   "execution_count": 1,
   "id": "12e2d012-9976-4a79-9767-7d52a57087fb",
   "metadata": {},
   "outputs": [],
   "source": [
    "import numpy as np"
   ]
  },
  {
   "cell_type": "code",
   "execution_count": 17,
   "id": "0a982881-db40-4b4a-95f9-dca47f4fa519",
   "metadata": {},
   "outputs": [],
   "source": [
    "class MLP:\n",
    "    def __init__(self,InputSize : int, hiddenLayers: list, OutputSize:int):\n",
    "        self.weights = {}\n",
    "\n",
    "        self.weights[\"W1\"] = np.zeros((InputSize,hiddenLayers[0]))\n",
    "        self.weights[\"B1\"] = np.zeros(hiddenLayers[0])\n",
    "\n",
    "        wn = 2\n",
    "        for i in range(1,len(hiddenLayers)):\n",
    "            self.weights[\"W\"+str(wn)] = np.zeros((hiddenLayers[i-1],hiddenLayers[i]))\n",
    "            self.weights[\"B\"+str(wn)] = np.zeros(hiddenLayers[i])\n",
    "\n",
    "            wn += 1\n",
    "\n",
    "        self.weights[\"W\"+str(wn)] = np.zeros((hiddenLayers[-1],OutputSize))\n",
    "        self.weights[\"B\"+str(wn)] = np.zeros(OutputSize)\n",
    "\n",
    "    def activation(self,Z):\n",
    "        return 1/(1+np.exp(-Z))\n",
    "\n",
    "    def forward(self,X):\n",
    "\n",
    "        self.outputs = []\n",
    "        A = X\n",
    "        for i in range(1,len(self.weights)//2 + 1):\n",
    "            Z = A@self.weights[\"W\"+str(i)] + self.weights[\"B\"+str(i)]\n",
    "            A = self.activation(Z)\n",
    "            self.outputs.append(A)\n",
    "\n",
    "        return A\n",
    "        "
   ]
  },
  {
   "cell_type": "code",
   "execution_count": 18,
   "id": "e5bf0925-6d51-4313-ab99-0294e950aba3",
   "metadata": {},
   "outputs": [],
   "source": [
    "clf = MLP(3,[4,3,2],1)"
   ]
  },
  {
   "cell_type": "code",
   "execution_count": 19,
   "id": "d8cc838a-2ea7-464d-9a30-0863123acbc9",
   "metadata": {},
   "outputs": [
    {
     "data": {
      "text/plain": [
       "array([[0.5],\n",
       "       [0.5]])"
      ]
     },
     "execution_count": 19,
     "metadata": {},
     "output_type": "execute_result"
    }
   ],
   "source": [
    "X = np.array([[1,2,3],[4,5,6]])\n",
    "clf.forward(X)"
   ]
  },
  {
   "cell_type": "code",
   "execution_count": 20,
   "id": "0032d2ca-e634-4fb5-ab65-ced44fad3982",
   "metadata": {},
   "outputs": [
    {
     "data": {
      "text/plain": [
       "[array([[0.5, 0.5, 0.5, 0.5],\n",
       "        [0.5, 0.5, 0.5, 0.5]]),\n",
       " array([[0.5, 0.5, 0.5],\n",
       "        [0.5, 0.5, 0.5]]),\n",
       " array([[0.5, 0.5],\n",
       "        [0.5, 0.5]]),\n",
       " array([[0.5],\n",
       "        [0.5]])]"
      ]
     },
     "execution_count": 20,
     "metadata": {},
     "output_type": "execute_result"
    }
   ],
   "source": [
    "clf.outputs"
   ]
  },
  {
   "cell_type": "code",
   "execution_count": null,
   "id": "24183af4-c6c9-4309-a1eb-0d8687913614",
   "metadata": {},
   "outputs": [],
   "source": []
  }
 ],
 "metadata": {
  "kernelspec": {
   "display_name": "Python 3 (ipykernel)",
   "language": "python",
   "name": "python3"
  },
  "language_info": {
   "codemirror_mode": {
    "name": "ipython",
    "version": 3
   },
   "file_extension": ".py",
   "mimetype": "text/x-python",
   "name": "python",
   "nbconvert_exporter": "python",
   "pygments_lexer": "ipython3",
   "version": "3.12.8"
  }
 },
 "nbformat": 4,
 "nbformat_minor": 5
}
