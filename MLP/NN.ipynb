{
 "cells": [
  {
   "cell_type": "code",
   "execution_count": 137,
   "id": "91109807-de2f-4e61-b0b8-a52c9f442df1",
   "metadata": {},
   "outputs": [],
   "source": [
    "import numpy as np\n",
    "import matplotlib.pyplot as plt\n",
    "import pandas as pd"
   ]
  },
  {
   "cell_type": "code",
   "execution_count": 128,
   "id": "426ade0b-8531-4f2f-8de8-aea765340e23",
   "metadata": {},
   "outputs": [],
   "source": [
    "from sklearn.datasets import make_blobs\n",
    "from sklearn.datasets import make_circles\n",
    "from sklearn.datasets import make_moons\n",
    "from sklearn.datasets import load_diabetes"
   ]
  },
  {
   "cell_type": "code",
   "execution_count": 138,
   "id": "2b163864-c470-4ec4-ab92-53a232f24788",
   "metadata": {},
   "outputs": [],
   "source": [
    "# X,y = make_blobs(1000,10,centers=2,random_state=0)\n",
    "# X,y = make_circles(1000,noise=0.02)\n",
    "# X,y = make_moons(1000,noise=0.05)\n",
    "data = pd.read_csv('diabetes.csv')"
   ]
  },
  {
   "cell_type": "code",
   "execution_count": 139,
   "id": "6fe1721e-631a-4619-bf6f-012b672d841a",
   "metadata": {},
   "outputs": [],
   "source": [
    "# plt.scatter(X[:,0],X[:,1],c = y)\n",
    "# plt.show()"
   ]
  },
  {
   "cell_type": "code",
   "execution_count": 145,
   "id": "a4d0cca9-a4a6-47bf-90c7-62e8788a9773",
   "metadata": {},
   "outputs": [],
   "source": [
    "X,y = data.drop(['Outcome'],axis = 1).values,data['Outcome'].values.reshape((-1,1))"
   ]
  },
  {
   "cell_type": "code",
   "execution_count": 146,
   "id": "369e7207-1627-4817-8571-e5b3d47352ac",
   "metadata": {},
   "outputs": [
    {
     "data": {
      "text/plain": [
       "((768, 8), (768, 1))"
      ]
     },
     "execution_count": 146,
     "metadata": {},
     "output_type": "execute_result"
    }
   ],
   "source": [
    "X.shape,y.shape"
   ]
  },
  {
   "cell_type": "code",
   "execution_count": 163,
   "id": "0a982881-db40-4b4a-95f9-dca47f4fa519",
   "metadata": {},
   "outputs": [],
   "source": [
    "class MLP:\n",
    "    def __init__(self,InputSize : int, hiddenLayers: list, OutputSize:int):\n",
    "        self.weights = {}\n",
    "\n",
    "        self.weights[\"W1\"] = np.zeros((InputSize,hiddenLayers[0]))\n",
    "        self.weights[\"B1\"] = np.zeros(hiddenLayers[0])\n",
    "\n",
    "        wn = 2\n",
    "        for i in range(1,len(hiddenLayers)):\n",
    "            self.weights[\"W\"+str(wn)] = np.zeros((hiddenLayers[i-1],hiddenLayers[i]))\n",
    "            self.weights[\"B\"+str(wn)] = np.zeros(hiddenLayers[i])\n",
    "\n",
    "            wn += 1\n",
    "\n",
    "        self.weights[\"W\"+str(wn)] = np.zeros((hiddenLayers[-1],OutputSize))\n",
    "        self.weights[\"B\"+str(wn)] = np.zeros(OutputSize)\n",
    "\n",
    "    def fit(self,X,y,lr = 0.01,epochs = 100):\n",
    "        self.backwardProp(X,y,lr,epochs)\n",
    "\n",
    "    def predict(self,X):\n",
    "        ypred = self.forward(X)\n",
    "        # print(ypred)\n",
    "        ypred[ypred >= 0.5] = 1\n",
    "        ypred[ypred < 0.5] = 0\n",
    "        return ypred\n",
    "\n",
    "    def activation(self,Z):\n",
    "        return 1/(1+np.exp(-Z))\n",
    "\n",
    "    def derA(self,Z):\n",
    "        return Z*(1-Z)\n",
    "\n",
    "    def forward(self,X):\n",
    "\n",
    "        self.outputs = []\n",
    "        A = X\n",
    "        for i in range(1,len(self.weights)//2 + 1):\n",
    "            Z = A@self.weights[\"W\"+str(i)] + self.weights[\"B\"+str(i)]\n",
    "            A = self.activation(Z)\n",
    "            self.outputs.append(A)\n",
    "        return A\n",
    "\n",
    "    def backwardProp(self,X,y,lr = 0.1,epochs = 1000):\n",
    "        \n",
    "        for e in range(epochs):\n",
    "            ypred = self.forward(X)\n",
    "\n",
    "            #Last Layer Grads\n",
    "            delta = [ypred-y]\n",
    "            gradw = []\n",
    "\n",
    "            nw = len(self.weights)//2\n",
    "            for o in range(len(self.outputs)-2,-1,-1):\n",
    "            \n",
    "                gradw.append((self.outputs[o].T)@delta[-1])\n",
    "                delta.append((delta[-1]@self.weights['W'+str(nw)].T)*self.derA(self.outputs[o]))\n",
    "                nw -= 1\n",
    "                \n",
    "            gradw.append((X.T)@delta[-1])\n",
    "\n",
    "\n",
    "            nw = len(self.weights)//2\n",
    "            for i in range(len(delta)):\n",
    "                self.weights[\"W\"+str(nw)] = self.weights[\"W\"+str(nw)] - lr*gradw[i]\n",
    "                self.weights[\"B\"+str(nw)] = self.weights[\"B\"+str(nw)] - lr*np.mean(delta[i],axis = 0)\n",
    "                nw -= 1\n",
    "            "
   ]
  },
  {
   "cell_type": "code",
   "execution_count": 167,
   "id": "e5bf0925-6d51-4313-ab99-0294e950aba3",
   "metadata": {},
   "outputs": [],
   "source": [
    "clf = MLP(X.shape[1],[64,32],1)"
   ]
  },
  {
   "cell_type": "code",
   "execution_count": 170,
   "id": "d8cc838a-2ea7-464d-9a30-0863123acbc9",
   "metadata": {},
   "outputs": [],
   "source": [
    "clf.fit(X,y,0.1,1000)\n",
    "ypred = clf.predict(X)"
   ]
  },
  {
   "cell_type": "code",
   "execution_count": 171,
   "id": "0032d2ca-e634-4fb5-ab65-ced44fad3982",
   "metadata": {},
   "outputs": [
    {
     "data": {
      "text/plain": [
       "np.float64(0.6510416666666666)"
      ]
     },
     "execution_count": 171,
     "metadata": {},
     "output_type": "execute_result"
    }
   ],
   "source": [
    "np.mean(ypred.reshape(-1) == y)"
   ]
  },
  {
   "cell_type": "code",
   "execution_count": null,
   "id": "24183af4-c6c9-4309-a1eb-0d8687913614",
   "metadata": {},
   "outputs": [],
   "source": []
  },
  {
   "cell_type": "code",
   "execution_count": null,
   "id": "ffb3e13d-eccc-489a-9396-479a9218d562",
   "metadata": {},
   "outputs": [],
   "source": []
  },
  {
   "cell_type": "code",
   "execution_count": null,
   "id": "a49e1f25-8ae1-4468-91bd-341a051224a7",
   "metadata": {},
   "outputs": [],
   "source": []
  },
  {
   "cell_type": "code",
   "execution_count": null,
   "id": "5e1ba748-1bc7-4efe-aada-a1902342c611",
   "metadata": {},
   "outputs": [],
   "source": []
  },
  {
   "cell_type": "code",
   "execution_count": null,
   "id": "0dc7dcdc-1820-439a-8696-9b4848e5e153",
   "metadata": {},
   "outputs": [],
   "source": []
  },
  {
   "cell_type": "code",
   "execution_count": null,
   "id": "0da959ed-50ff-40c3-a047-ac076fcd7926",
   "metadata": {},
   "outputs": [],
   "source": []
  },
  {
   "cell_type": "code",
   "execution_count": null,
   "id": "f9f26934-c2ae-47ea-86fc-860ea88d74a3",
   "metadata": {},
   "outputs": [],
   "source": []
  },
  {
   "cell_type": "code",
   "execution_count": null,
   "id": "f204aa07-e9a3-4739-a4aa-7a3315182316",
   "metadata": {},
   "outputs": [],
   "source": []
  },
  {
   "cell_type": "code",
   "execution_count": null,
   "id": "db16eea8-5a7b-4cc2-9671-26b69391e3a4",
   "metadata": {},
   "outputs": [],
   "source": []
  }
 ],
 "metadata": {
  "kernelspec": {
   "display_name": "Python 3 (ipykernel)",
   "language": "python",
   "name": "python3"
  },
  "language_info": {
   "codemirror_mode": {
    "name": "ipython",
    "version": 3
   },
   "file_extension": ".py",
   "mimetype": "text/x-python",
   "name": "python",
   "nbconvert_exporter": "python",
   "pygments_lexer": "ipython3",
   "version": "3.12.8"
  }
 },
 "nbformat": 4,
 "nbformat_minor": 5
}
