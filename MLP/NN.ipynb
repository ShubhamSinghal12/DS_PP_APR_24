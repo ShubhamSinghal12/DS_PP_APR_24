{
 "cells": [
  {
   "cell_type": "code",
   "execution_count": 1,
   "id": "12e2d012-9976-4a79-9767-7d52a57087fb",
   "metadata": {},
   "outputs": [],
   "source": [
    "import numpy as np"
   ]
  },
  {
   "cell_type": "code",
   "execution_count": 79,
   "id": "0a982881-db40-4b4a-95f9-dca47f4fa519",
   "metadata": {},
   "outputs": [],
   "source": [
    "class MLP:\n",
    "    def __init__(self,InputSize : int, hiddenLayers: list, OutputSize:int):\n",
    "        self.weights = {}\n",
    "\n",
    "        self.weights[\"W1\"] = np.zeros((InputSize,hiddenLayers[0]))\n",
    "        self.weights[\"B1\"] = np.zeros(hiddenLayers[0])\n",
    "\n",
    "        wn = 2\n",
    "        for i in range(1,len(hiddenLayers)):\n",
    "            self.weights[\"W\"+str(wn)] = np.zeros((hiddenLayers[i-1],hiddenLayers[i]))\n",
    "            self.weights[\"B\"+str(wn)] = np.zeros(hiddenLayers[i])\n",
    "\n",
    "            wn += 1\n",
    "\n",
    "        self.weights[\"W\"+str(wn)] = np.zeros((hiddenLayers[-1],OutputSize))\n",
    "        self.weights[\"B\"+str(wn)] = np.zeros(OutputSize)\n",
    "\n",
    "    def activation(self,Z):\n",
    "        return 1/(1+np.exp(-Z))\n",
    "\n",
    "    def forward(self,X):\n",
    "\n",
    "        self.outputs = []\n",
    "        A = X\n",
    "        for i in range(1,len(self.weights)//2 + 1):\n",
    "            Z = A@self.weights[\"W\"+str(i)] + self.weights[\"B\"+str(i)]\n",
    "            A = self.activation(Z)\n",
    "            self.outputs.append(A)\n",
    "\n",
    "        return A\n",
    "\n",
    "    def backwardProp(self,X,y):\n",
    "        ypred = self.forward(X)\n",
    "        delta4 = ypred-y\n",
    "        gradw4 = (self.outputs[2].T)@delta4\n",
    "\n",
    "        \n",
    "        \n",
    "        delta3 = (delta4@self.weights['W4'].T)*(self.outputs[2]*(1-self.outputs[2]))\n",
    "        gradw3 = (self.outputs[1].T)@delta3\n",
    "\n",
    "        # print(self.weights[\"W3\"].shape,delta3.shape)\n",
    "        delta2 = (delta3@self.weights['W3'].T)*(self.outputs[1]*(1-self.outputs[1]))\n",
    "        gradw2 = (self.outputs[0].T)@delta2\n",
    "\n",
    "        delta1 = (delta2@self.weights['W2'].T)*(self.outputs[0]*(1-self.outputs[0]))\n",
    "        gradw1 = (X.T)@delta1\n",
    "\n",
    "        print(delta1.shape,delta2.shape,delta3.shape,delta4.shape)\n",
    "        print(gradw1.shape,gradw2.shape,gradw3.shape,gradw4.shape)\n",
    "        \n",
    "        # self.weights[\"W\"+str(wn)] = \n",
    "        "
   ]
  },
  {
   "cell_type": "code",
   "execution_count": 80,
   "id": "e5bf0925-6d51-4313-ab99-0294e950aba3",
   "metadata": {},
   "outputs": [],
   "source": [
    "clf = MLP(3,[4,3,2],1)"
   ]
  },
  {
   "cell_type": "code",
   "execution_count": 81,
   "id": "d8cc838a-2ea7-464d-9a30-0863123acbc9",
   "metadata": {},
   "outputs": [
    {
     "data": {
      "text/plain": [
       "(2, 1)"
      ]
     },
     "execution_count": 81,
     "metadata": {},
     "output_type": "execute_result"
    }
   ],
   "source": [
    "X = np.array([[1,2,3],[4,5,6]])\n",
    "clf.forward(X).shape"
   ]
  },
  {
   "cell_type": "code",
   "execution_count": 82,
   "id": "0032d2ca-e634-4fb5-ab65-ced44fad3982",
   "metadata": {},
   "outputs": [
    {
     "data": {
      "text/plain": [
       "[array([[0.5, 0.5, 0.5, 0.5],\n",
       "        [0.5, 0.5, 0.5, 0.5]]),\n",
       " array([[0.5, 0.5, 0.5],\n",
       "        [0.5, 0.5, 0.5]]),\n",
       " array([[0.5, 0.5],\n",
       "        [0.5, 0.5]]),\n",
       " array([[0.5],\n",
       "        [0.5]])]"
      ]
     },
     "execution_count": 82,
     "metadata": {},
     "output_type": "execute_result"
    }
   ],
   "source": [
    "clf.outputs"
   ]
  },
  {
   "cell_type": "code",
   "execution_count": 83,
   "id": "24183af4-c6c9-4309-a1eb-0d8687913614",
   "metadata": {},
   "outputs": [
    {
     "name": "stdout",
     "output_type": "stream",
     "text": [
      "(2, 4) (2, 3) (2, 2) (2, 1)\n",
      "(3, 4) (4, 3) (3, 2) (2, 1)\n"
     ]
    }
   ],
   "source": [
    "clf.backwardProp(X,np.array([0,1]).reshape((2,1)))"
   ]
  },
  {
   "cell_type": "code",
   "execution_count": 85,
   "id": "ffb3e13d-eccc-489a-9396-479a9218d562",
   "metadata": {},
   "outputs": [
    {
     "data": {
      "text/plain": [
       "(2, 1)"
      ]
     },
     "execution_count": 85,
     "metadata": {},
     "output_type": "execute_result"
    }
   ],
   "source": [
    "np.array([0,1]).reshape((2,1)).shape"
   ]
  },
  {
   "cell_type": "code",
   "execution_count": null,
   "id": "a49e1f25-8ae1-4468-91bd-341a051224a7",
   "metadata": {},
   "outputs": [],
   "source": []
  },
  {
   "cell_type": "code",
   "execution_count": null,
   "id": "5e1ba748-1bc7-4efe-aada-a1902342c611",
   "metadata": {},
   "outputs": [],
   "source": []
  },
  {
   "cell_type": "code",
   "execution_count": null,
   "id": "0dc7dcdc-1820-439a-8696-9b4848e5e153",
   "metadata": {},
   "outputs": [],
   "source": []
  },
  {
   "cell_type": "code",
   "execution_count": null,
   "id": "0da959ed-50ff-40c3-a047-ac076fcd7926",
   "metadata": {},
   "outputs": [],
   "source": []
  },
  {
   "cell_type": "code",
   "execution_count": null,
   "id": "f9f26934-c2ae-47ea-86fc-860ea88d74a3",
   "metadata": {},
   "outputs": [],
   "source": []
  },
  {
   "cell_type": "code",
   "execution_count": null,
   "id": "f204aa07-e9a3-4739-a4aa-7a3315182316",
   "metadata": {},
   "outputs": [],
   "source": []
  },
  {
   "cell_type": "code",
   "execution_count": null,
   "id": "db16eea8-5a7b-4cc2-9671-26b69391e3a4",
   "metadata": {},
   "outputs": [],
   "source": []
  }
 ],
 "metadata": {
  "kernelspec": {
   "display_name": "Python 3 (ipykernel)",
   "language": "python",
   "name": "python3"
  },
  "language_info": {
   "codemirror_mode": {
    "name": "ipython",
    "version": 3
   },
   "file_extension": ".py",
   "mimetype": "text/x-python",
   "name": "python",
   "nbconvert_exporter": "python",
   "pygments_lexer": "ipython3",
   "version": "3.12.8"
  }
 },
 "nbformat": 4,
 "nbformat_minor": 5
}
